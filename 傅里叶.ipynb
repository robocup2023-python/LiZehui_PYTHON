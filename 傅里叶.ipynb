{
 "cells": [
  {
   "cell_type": "code",
   "execution_count": 5,
   "metadata": {},
   "outputs": [],
   "source": [
    "import cv2\n",
    "import numpy as np\n",
    "import matplotlib.pyplot as plt\n",
    "# 读取图像\n",
    "image = cv2.imread('cat.png', cv2.IMREAD_GRAYSCALE)\n",
    "\n",
    "# 傅里叶变换\n",
    "fourier = np.fft.fft2(image)\n",
    "\n",
    "# 将低频部分移动到中心\n",
    "fourier_shifted = np.fft.fftshift(fourier)\n",
    "\n",
    "# 取傅里叶变换的幅值谱\n",
    "magnitude_spectrum = 20 * np.log(np.abs(fourier_shifted))\n",
    "\n",
    "# 反傅里叶变换\n",
    "inverse = np.fft.ifft2(fourier)\n",
    "\n",
    "# 显示图像\n",
    "cv2.imshow('Original Image', image)\n",
    "cv2.imshow('Magnitude Spectrum', magnitude_spectrum)\n",
    "cv2.imshow('Inverse Fourier Transform', np.abs(inverse))\n",
    "cv2.waitKey(0)\n",
    "cv2.destroyAllWindows()"
   ]
  },
  {
   "cell_type": "code",
   "execution_count": 4,
   "metadata": {},
   "outputs": [],
   "source": [
    "# 取傅里叶变换的相位谱\n",
    "phase_spectrum = np.angle(fourier_shifted)\n",
    "\n",
    "# 显示幅度谱和相位谱\n",
    "cv2.imshow('Magnitude Spectrum', magnitude_spectrum)\n",
    "cv2.imshow('Phase Spectrum', phase_spectrum)\n",
    "cv2.waitKey(0)\n",
    "cv2.destroyAllWindows()"
   ]
  },
  {
   "attachments": {},
   "cell_type": "markdown",
   "metadata": {},
   "source": [
    "去除高频的信息"
   ]
  },
  {
   "cell_type": "code",
   "execution_count": 6,
   "metadata": {},
   "outputs": [],
   "source": [
    "fourier = np.fft.fft2(image)\n",
    "fourier_shifted = np.fft.fftshift(fourier)\n",
    "\n",
    "# 计算幅度谱\n",
    "magnitude_spectrum = np.log(1 + np.abs(fourier_shifted))\n",
    "\n",
    "# 去除高频信息\n",
    "rows, cols = image.shape\n",
    "crow, ccol = int(rows/2), int(cols/2)\n",
    "# 创建一个掩膜，中心为1，其余为0\n",
    "mask = np.zeros((rows, cols), np.uint8)\n",
    "mask[crow-30:crow+30, ccol-30:ccol+30] = 1\n",
    "# 进行掩膜操作\n",
    "fourier_shifted_filtered = fourier_shifted * mask\n",
    "\n",
    "# 反移动，进行傅里叶逆变换\n",
    "fourier_inverse = np.fft.ifftshift(fourier_shifted_filtered)\n",
    "image_filtered = np.fft.ifft2(fourier_inverse)\n",
    "\n",
    "# 取实部，并进行灰度化和归一化\n",
    "image_filtered = np.abs(image_filtered)\n",
    "image_filtered = cv2.normalize(image_filtered, None, 0, 255, cv2.NORM_MINMAX, dtype=cv2.CV_8U)\n",
    "\n",
    "# 显示结果\n",
    "cv2.imshow('Original Image', image)\n",
    "cv2.imshow('Filtered Image', image_filtered)\n",
    "cv2.waitKey(0)\n",
    "cv2.destroyAllWindows()"
   ]
  },
  {
   "cell_type": "code",
   "execution_count": null,
   "metadata": {},
   "outputs": [],
   "source": []
  }
 ],
 "metadata": {
  "kernelspec": {
   "display_name": "base",
   "language": "python",
   "name": "python3"
  },
  "language_info": {
   "codemirror_mode": {
    "name": "ipython",
    "version": 3
   },
   "file_extension": ".py",
   "mimetype": "text/x-python",
   "name": "python",
   "nbconvert_exporter": "python",
   "pygments_lexer": "ipython3",
   "version": "3.9.18"
  },
  "orig_nbformat": 4
 },
 "nbformat": 4,
 "nbformat_minor": 2
}
